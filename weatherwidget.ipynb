{
  "nbformat": 4,
  "nbformat_minor": 0,
  "metadata": {
    "colab": {
      "provenance": []
    },
    "kernelspec": {
      "name": "python3",
      "display_name": "Python 3"
    },
    "language_info": {
      "name": "python"
    }
  },
  "cells": [
    {
      "cell_type": "code",
      "source": [
        "#Imports\n",
        "\n",
        "from datetime import datetime, timedelta\n",
        "import pytz\n",
        "import requests\n",
        "import matplotlib.pyplot as plt\n",
        "import ipywidgets as widgets\n",
        "from IPython.display import display"
      ],
      "metadata": {
        "id": "mQbcfcc7G_O3"
      },
      "execution_count": 38,
      "outputs": []
    },
    {
      "cell_type": "code",
      "source": [
        "#Weather Function\n",
        "\n",
        "def get_weather(city):\n",
        "    geocoding_url = f'https://geocoding-api.open-meteo.com/v1/search?name={city}'\n",
        "    geocoding_response = requests.get(geocoding_url)\n",
        "    if geocoding_response.status_code != 200 or not geocoding_response.json().get('results'):\n",
        "        return None, None\n",
        "\n",
        "    location = geocoding_response.json()['results'][0]\n",
        "    latitude, longitude = location['latitude'], location['longitude']\n",
        "    timezone_name = location['timezone']\n",
        "\n",
        "    weather_url = f'https://api.open-meteo.com/v1/forecast?latitude={latitude}&longitude={longitude}&current_weather=true'\n",
        "    weather_response = requests.get(weather_url)\n",
        "    if weather_response.status_code != 200:\n",
        "        return None, None\n",
        "\n",
        "    return weather_response.json(), timezone_name"
      ],
      "metadata": {
        "id": "aTG7jQgXHAVA"
      },
      "execution_count": 39,
      "outputs": []
    },
    {
      "cell_type": "code",
      "source": [
        "#Display Weather Function\n",
        "\n",
        "def display_weather(data, city, timezone_name):\n",
        "    if not data:\n",
        "        print(\"City not found or error fetching data.\")\n",
        "        return\n",
        "\n",
        "    weather = data['current_weather']\n",
        "    temperature, wind_speed, weather_code = weather['temperature'], weather['windspeed'], weather['weathercode']\n",
        "    utc_time_str = weather['time']\n",
        "\n",
        "    try:\n",
        "        utc_time = datetime.fromisoformat(utc_time_str.replace('Z', '+00:00'))\n",
        "        local_timezone = pytz.timezone(timezone_name)\n",
        "        local_time = utc_time.astimezone(local_timezone) + timedelta(minutes=10)\n",
        "\n",
        "        print(f\"Temperature: {temperature}°C\")\n",
        "        print(f\"Local Time in {city}: {local_time.strftime('%Y-%m-%d %H:%M:%S')}\")\n",
        "        print(f\"Weather: {weather_code}\")\n",
        "        print(f\"Wind Speed: {wind_speed} km/h\")\n",
        "    except Exception as e:\n",
        "        print(f\"Error converting time: {e}\")"
      ],
      "metadata": {
        "id": "Yx6fG1sWHDgE"
      },
      "execution_count": 40,
      "outputs": []
    },
    {
      "cell_type": "code",
      "source": [
        "#Visualize Weather Function\n",
        "\n",
        "def visualize_weather(data):\n",
        "    if not data:\n",
        "        return\n",
        "\n",
        "    temperature = data['current_weather']['temperature']\n",
        "    color = 'lightblue' if temperature < 0 else 'green' if temperature < 15 else 'yellow' if temperature < 30 else 'red'\n",
        "\n",
        "    plt.bar(['Current Temp'], [temperature], color=color)\n",
        "    plt.title(\"Current Temperature\")\n",
        "    plt.ylabel('Temperature (°C)')\n",
        "    plt.show()"
      ],
      "metadata": {
        "id": "uYnTj00QHIqO"
      },
      "execution_count": 41,
      "outputs": []
    },
    {
      "cell_type": "code",
      "source": [
        "#Interactive Display Function and Widgets\n",
        "\n",
        "def display_weather_interactive(city):\n",
        "    data, timezone_name = get_weather(city)\n",
        "    if data:\n",
        "        display_weather(data, city, timezone_name)\n",
        "        visualize_weather(data)\n",
        "    else:\n",
        "        print(f\"Weather data for {city} not found.\")\n",
        "\n",
        "city_widget = widgets.Text(value='Enter a city name', placeholder='Enter a city name', description='City:')\n",
        "button = widgets.Button(description=\"Get Weather\")\n",
        "output = widgets.Output()\n",
        "\n",
        "def on_button_click(button):\n",
        "    with output:\n",
        "        output.clear_output()\n",
        "        display_weather_interactive(city_widget.value)\n",
        "\n",
        "button.on_click(on_button_click)\n",
        "display(widgets.VBox([city_widget, button, output]))"
      ],
      "metadata": {
        "id": "7JsgTiWnHOtv"
      },
      "execution_count": null,
      "outputs": []
    }
  ]
}